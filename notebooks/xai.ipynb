{
 "cells": [
  {
   "cell_type": "markdown",
   "metadata": {},
   "source": [
    "### Instalacja"
   ]
  },
  {
   "cell_type": "code",
   "execution_count": null,
   "metadata": {},
   "outputs": [],
   "source": [
    "%cd /content/\n",
    "!git clone https://github.com/Bartolo72/phisher\n",
    "%cd /content/phisher\n",
    "!pip install -r requirements.txt -q\n",
    "!pip install -e . -q\n",
    "%cd /content/"
   ]
  },
  {
   "cell_type": "markdown",
   "metadata": {},
   "source": [
    "### XAI"
   ]
  },
  {
   "cell_type": "code",
   "execution_count": 1,
   "metadata": {},
   "outputs": [
    {
     "name": "stderr",
     "output_type": "stream",
     "text": [
      "/Users/bkosinski/Library/Python/3.9/lib/python/site-packages/tqdm/auto.py:21: TqdmWarning: IProgress not found. Please update jupyter and ipywidgets. See https://ipywidgets.readthedocs.io/en/stable/user_install.html\n",
      "  from .autonotebook import tqdm as notebook_tqdm\n"
     ]
    }
   ],
   "source": [
    "from phisher.xai import GradCAM\n",
    "from phisher.module import PhisherhModule\n",
    "from phisher.model import PhisherEmbeddingModel\n",
    "from phisher.dataset import PhishingEmbeddingDataset"
   ]
  },
  {
   "cell_type": "code",
   "execution_count": 2,
   "metadata": {},
   "outputs": [],
   "source": [
    "import torch"
   ]
  },
  {
   "cell_type": "markdown",
   "metadata": {},
   "source": [
    "#### Load model"
   ]
  },
  {
   "cell_type": "code",
   "execution_count": 6,
   "metadata": {},
   "outputs": [],
   "source": [
    "model_ckpt_path: str = \"/Users/bkosinski/Desktop/STUDIA/SEMI/GSN/projekt/checkpoints/embeddings_model.ckpt\""
   ]
  },
  {
   "cell_type": "code",
   "execution_count": 7,
   "metadata": {},
   "outputs": [],
   "source": [
    "model: PhisherEmbeddingModel = PhisherEmbeddingModel(vocab_size=84, embedding_dim=100, out_features=1)"
   ]
  },
  {
   "cell_type": "code",
   "execution_count": 8,
   "metadata": {},
   "outputs": [
    {
     "name": "stderr",
     "output_type": "stream",
     "text": [
      "/Users/bkosinski/Library/Python/3.9/lib/python/site-packages/lightning_fabric/utilities/cloud_io.py:55: You are using `torch.load` with `weights_only=False` (the current default value), which uses the default pickle module implicitly. It is possible to construct malicious pickle data which will execute arbitrary code during unpickling (See https://github.com/pytorch/pytorch/blob/main/SECURITY.md#untrusted-models for more details). In a future release, the default value for `weights_only` will be flipped to `True`. This limits the functions that could be executed during unpickling. Arbitrary objects will no longer be allowed to be loaded via this mode unless they are explicitly allowlisted by the user via `torch.serialization.add_safe_globals`. We recommend you start setting `weights_only=True` for any use case where you don't have full control of the loaded file. Please open an issue on GitHub for any issues related to this experimental feature.\n",
      "/Users/bkosinski/Library/Python/3.9/lib/python/site-packages/pytorch_lightning/utilities/parsing.py:198: Attribute 'model' is an instance of `nn.Module` and is already saved during checkpointing. It is recommended to ignore them using `self.save_hyperparameters(ignore=['model'])`.\n"
     ]
    },
    {
     "data": {
      "text/plain": [
       "PhisherhModule(\n",
       "  (model): PhisherEmbeddingModel(\n",
       "    (embedding): Embedding(84, 100, padding_idx=0)\n",
       "    (conv1): Conv2d(1, 6, kernel_size=(5, 1), stride=(1, 1))\n",
       "    (conv2): Conv2d(6, 12, kernel_size=(5, 1), stride=(1, 1))\n",
       "    (fc1): Linear(in_features=56400, out_features=120, bias=True)\n",
       "    (fc2): Linear(in_features=120, out_features=60, bias=True)\n",
       "    (out): Linear(in_features=60, out_features=1, bias=True)\n",
       "  )\n",
       "  (accuracy): BinaryAccuracy()\n",
       "  (f1): BinaryF1Score()\n",
       "  (precision): BinaryPrecision()\n",
       "  (recall): BinaryRecall()\n",
       "  (auroc): BinaryAUROC()\n",
       ")"
      ]
     },
     "execution_count": 8,
     "metadata": {},
     "output_type": "execute_result"
    }
   ],
   "source": [
    "PhisherhModule.load_from_checkpoint(model_ckpt_path, model=model)"
   ]
  },
  {
   "cell_type": "markdown",
   "metadata": {},
   "source": [
    "#### Visualize Grad-CAM"
   ]
  },
  {
   "cell_type": "code",
   "execution_count": 9,
   "metadata": {},
   "outputs": [],
   "source": [
    "def visualize_url_with_cam(url: str, cam: torch.Tensor) -> str:\n",
    "    cam = cam.mean(dim=1).squeeze()\n",
    "    cam = cam.cpu().detach().numpy()\n",
    "    cam = (cam - cam.min()) / (cam.max() - cam.min())\n",
    "    url = url[: len(cam)]\n",
    "\n",
    "    colored_url = \"\"\n",
    "    for char, intensity in zip(url, cam):\n",
    "        color_intensity = int(\n",
    "            255 * (1 - intensity)\n",
    "        )  # Scale intensity (higher = darker)\n",
    "        hex_color = f\"{color_intensity:02x}ff{color_intensity:02x}\"\n",
    "        colored_url += f'<span style=\"background-color: #{hex_color};\">{char}</span>'\n",
    "\n",
    "    return colored_url"
   ]
  },
  {
   "cell_type": "code",
   "execution_count": 28,
   "metadata": {},
   "outputs": [],
   "source": [
    "device = torch.device(\"mps\")"
   ]
  },
  {
   "cell_type": "code",
   "execution_count": 29,
   "metadata": {},
   "outputs": [],
   "source": [
    "model = model.to(device)"
   ]
  },
  {
   "cell_type": "code",
   "execution_count": 61,
   "metadata": {},
   "outputs": [],
   "source": [
    "grad_cam = GradCAM(model, target_layer=model.conv1)"
   ]
  },
  {
   "cell_type": "code",
   "execution_count": 89,
   "metadata": {},
   "outputs": [],
   "source": [
    "placeholder_dataset = PhishingEmbeddingDataset(csv_file_path=\"/Users/bkosinski/Desktop/STUDIA/SEMI/GSN/projekt/phish_dataset.csv\")"
   ]
  },
  {
   "cell_type": "code",
   "execution_count": 101,
   "metadata": {},
   "outputs": [],
   "source": [
    "target_url: str = \"booking.guest7confirmation.com\""
   ]
  },
  {
   "cell_type": "code",
   "execution_count": 102,
   "metadata": {},
   "outputs": [],
   "source": [
    "input_tensor: torch.Tensor\n",
    "input_tensor = placeholder_dataset.parse_url(target_url)\n",
    "input_tensor = placeholder_dataset.pad_or_trim(input_tensor)\n",
    "input_tensor = torch.tensor(input_tensor, dtype=torch.long)\n",
    "\n",
    "input_tensor = input_tensor.to(device)\n",
    "input_tensor = input_tensor.reshape(1, -1)"
   ]
  },
  {
   "cell_type": "code",
   "execution_count": 103,
   "metadata": {},
   "outputs": [],
   "source": [
    "cam = grad_cam.generate_cam(input_tensor, target_class=0)\n",
    "visualized_url: str = visualize_url_with_cam(url=target_url, cam=cam)"
   ]
  },
  {
   "cell_type": "code",
   "execution_count": 104,
   "metadata": {},
   "outputs": [
    {
     "name": "stderr",
     "output_type": "stream",
     "text": [
      "/var/folders/l3/hg12zsjx6rsbsylxwh747cv00000gn/T/ipykernel_8486/1759908886.py:1: DeprecationWarning: Importing display from IPython.core.display is deprecated since IPython 7.14, please import from IPython display\n",
      "  from IPython.core.display import display, HTML\n"
     ]
    },
    {
     "data": {
      "text/html": [
       "<div style='color: black'><span style=\"background-color: #79ff79;\">b</span><span style=\"background-color: #b0ffb0;\">o</span><span style=\"background-color: #9cff9c;\">o</span><span style=\"background-color: #b7ffb7;\">k</span><span style=\"background-color: #c0ffc0;\">i</span><span style=\"background-color: #a2ffa2;\">n</span><span style=\"background-color: #0dff0d;\">g</span><span style=\"background-color: #8eff8e;\">.</span><span style=\"background-color: #74ff74;\">g</span><span style=\"background-color: #88ff88;\">u</span><span style=\"background-color: #d8ffd8;\">e</span><span style=\"background-color: #87ff87;\">s</span><span style=\"background-color: #72ff72;\">t</span><span style=\"background-color: #86ff86;\">7</span><span style=\"background-color: #3fff3f;\">c</span><span style=\"background-color: #d2ffd2;\">o</span><span style=\"background-color: #87ff87;\">n</span><span style=\"background-color: #aaffaa;\">f</span><span style=\"background-color: #5eff5e;\">i</span><span style=\"background-color: #56ff56;\">r</span><span style=\"background-color: #89ff89;\">m</span><span style=\"background-color: #4eff4e;\">a</span><span style=\"background-color: #72ff72;\">t</span><span style=\"background-color: #beffbe;\">i</span><span style=\"background-color: #99ff99;\">o</span><span style=\"background-color: #acffac;\">n</span><span style=\"background-color: #34ff34;\">.</span><span style=\"background-color: #66ff66;\">c</span><span style=\"background-color: #c5ffc5;\">o</span><span style=\"background-color: #5cff5c;\">m</span></div>"
      ],
      "text/plain": [
       "<IPython.core.display.HTML object>"
      ]
     },
     "metadata": {},
     "output_type": "display_data"
    }
   ],
   "source": [
    "from IPython.core.display import display, HTML\n",
    "display(HTML(f\"<div style='color: black'>{visualized_url}</div>\"))"
   ]
  }
 ],
 "metadata": {
  "kernelspec": {
   "display_name": "Python 3",
   "language": "python",
   "name": "python3"
  },
  "language_info": {
   "codemirror_mode": {
    "name": "ipython",
    "version": 3
   },
   "file_extension": ".py",
   "mimetype": "text/x-python",
   "name": "python",
   "nbconvert_exporter": "python",
   "pygments_lexer": "ipython3",
   "version": "3.9.6"
  }
 },
 "nbformat": 4,
 "nbformat_minor": 2
}
