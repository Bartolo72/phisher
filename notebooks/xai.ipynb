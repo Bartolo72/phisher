{
 "cells": [
  {
   "cell_type": "markdown",
   "metadata": {},
   "source": [
    "### Instalacja"
   ]
  },
  {
   "cell_type": "code",
   "execution_count": null,
   "metadata": {},
   "outputs": [],
   "source": [
    "%cd /content/\n",
    "!git clone https://github.com/Bartolo72/phisher\n",
    "%cd /content/phisher\n",
    "!pip install -r requirements.txt -q\n",
    "!pip install -e . -q\n",
    "%cd /content/"
   ]
  },
  {
   "cell_type": "markdown",
   "metadata": {},
   "source": [
    "### XAI"
   ]
  },
  {
   "cell_type": "code",
   "execution_count": null,
   "metadata": {},
   "outputs": [],
   "source": [
    "from phisher.xai import GradCAM\n",
    "from phisher.module import PhisherhModule\n",
    "from phisher.model import PhisherEmbeddingModel\n",
    "from phisher.dataset import PhishingEmbeddingDataset"
   ]
  },
  {
   "cell_type": "code",
   "execution_count": null,
   "metadata": {},
   "outputs": [],
   "source": [
    "import torch"
   ]
  },
  {
   "cell_type": "markdown",
   "metadata": {},
   "source": [
    "#### Load model"
   ]
  },
  {
   "cell_type": "code",
   "execution_count": null,
   "metadata": {},
   "outputs": [],
   "source": [
    "model_ckpt_path: str = \"checkpoints/embeddings_model.ckpt\""
   ]
  },
  {
   "cell_type": "code",
   "execution_count": null,
   "metadata": {},
   "outputs": [],
   "source": [
    "model: PhisherEmbeddingModel = PhisherEmbeddingModel(vocab_size=84, embedding_dim=100, out_features=1)"
   ]
  },
  {
   "cell_type": "code",
   "execution_count": null,
   "metadata": {},
   "outputs": [],
   "source": [
    "PhisherhModule.load_from_checkpoint(model_ckpt_path, model=model)"
   ]
  },
  {
   "cell_type": "markdown",
   "metadata": {},
   "source": [
    "#### Visualize Grad-CAM"
   ]
  },
  {
   "cell_type": "code",
   "execution_count": null,
   "metadata": {},
   "outputs": [],
   "source": [
    "def visualize_url_with_cam(url: str, cam: torch.Tensor) -> str:\n",
    "    cam = cam.mean(dim=1).squeeze()\n",
    "    cam = cam.cpu().detach().numpy()\n",
    "    cam = (cam - cam.min()) / (cam.max() - cam.min())\n",
    "    url = url[: len(cam)]\n",
    "\n",
    "    colored_url = \"\"\n",
    "    for char, intensity in zip(url, cam):\n",
    "        color_intensity = int(\n",
    "            255 * (1 - intensity)\n",
    "        )  # Scale intensity (higher = darker)\n",
    "        hex_color = f\"{color_intensity:02x}ff{color_intensity:02x}\"\n",
    "        colored_url += f'<span style=\"background-color: #{hex_color};\">{char}</span>'\n",
    "\n",
    "    return colored_url"
   ]
  },
  {
   "cell_type": "code",
   "execution_count": null,
   "metadata": {},
   "outputs": [],
   "source": [
    "grad_cam = GradCAM(model, target_layer=model.conv2)"
   ]
  },
  {
   "cell_type": "code",
   "execution_count": null,
   "metadata": {},
   "outputs": [],
   "source": [
    "target_class: torch.Tensor = torch.tensor([0]) # 0 phishing, 1 safe URL\n",
    "target_url: str = \"aeinpost.me\""
   ]
  },
  {
   "cell_type": "code",
   "execution_count": null,
   "metadata": {},
   "outputs": [],
   "source": [
    "placeholder_dataset = PhishingEmbeddingDataset(csv_file_path=\"\")"
   ]
  },
  {
   "cell_type": "code",
   "execution_count": null,
   "metadata": {},
   "outputs": [],
   "source": [
    "input_tensor: torch.Tensor\n",
    "input_tensor = placeholder_dataset.parse_url(target_url)\n",
    "input_tensor = placeholder_dataset.pad_or_trim(input_tensor)"
   ]
  },
  {
   "cell_type": "code",
   "execution_count": null,
   "metadata": {},
   "outputs": [],
   "source": [
    "cam = grad_cam.generate_cam(input_tensor, target_class)\n",
    "visualized_url: str = visualize_url_with_cam(url=target_url, cam=cam)"
   ]
  },
  {
   "cell_type": "code",
   "execution_count": null,
   "metadata": {},
   "outputs": [],
   "source": [
    "from IPython.core.display import display, HTML\n",
    "display(HTML(visualized_url))"
   ]
  }
 ],
 "metadata": {
  "language_info": {
   "name": "python"
  }
 },
 "nbformat": 4,
 "nbformat_minor": 2
}
