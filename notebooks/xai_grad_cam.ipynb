{
 "cells": [
  {
   "cell_type": "code",
   "execution_count": 122,
   "metadata": {},
   "outputs": [],
   "source": [
    "from phisher.xai import GradCAM\n",
    "from phisher.module import PhisherhModule\n",
    "from phisher.model import PhisherEmbeddingModel\n",
    "from phisher.dataset import PhishingEmbeddingDataset"
   ]
  },
  {
   "cell_type": "code",
   "execution_count": 123,
   "metadata": {},
   "outputs": [],
   "source": [
    "import torch"
   ]
  },
  {
   "cell_type": "markdown",
   "metadata": {},
   "source": [
    "#### Load model"
   ]
  },
  {
   "cell_type": "code",
   "execution_count": 124,
   "metadata": {},
   "outputs": [],
   "source": [
    "model_ckpt_path: str = \"/Users/bkosinski/Desktop/STUDIA/SEMI/GSN/projekt/checkpoints/embeddings_model.ckpt\""
   ]
  },
  {
   "cell_type": "code",
   "execution_count": 125,
   "metadata": {},
   "outputs": [],
   "source": [
    "model: PhisherEmbeddingModel = PhisherEmbeddingModel(vocab_size=84, embedding_dim=100, out_features=1)"
   ]
  },
  {
   "cell_type": "code",
   "execution_count": null,
   "metadata": {},
   "outputs": [],
   "source": [
    "PhisherhModule.load_from_checkpoint(model_ckpt_path, model=model)"
   ]
  },
  {
   "cell_type": "markdown",
   "metadata": {},
   "source": [
    "#### Visualize Grad-CAM"
   ]
  },
  {
   "cell_type": "code",
   "execution_count": 127,
   "metadata": {},
   "outputs": [],
   "source": [
    "def visualize_url_with_cam(url: str, cam: torch.Tensor) -> str:\n",
    "    cam = cam.squeeze()\n",
    "    if len(cam.shape) != 1:\n",
    "        cam = cam.mean(dim=1)\n",
    "        cam = (cam - cam.min()) / (cam.max() - cam.min())\n",
    "    colored_url = \"\"\n",
    "    for char, intensity in zip(url, cam):\n",
    "        color_intensity = int(\n",
    "            255 * (1 - intensity)\n",
    "        )  # Scale intensity (higher = darker)\n",
    "        hex_color = f\"{color_intensity:02x}ff{color_intensity:02x}\"\n",
    "        colored_url += f'<span style=\"background-color: #{hex_color};\">{char}</span>'\n",
    "\n",
    "    return colored_url"
   ]
  },
  {
   "cell_type": "code",
   "execution_count": 128,
   "metadata": {},
   "outputs": [],
   "source": [
    "def parse_url_to_input_tensor(url: str, placeholder_dataset: PhishingEmbeddingDataset, device: str) -> torch.Tensor:\n",
    "    input_tensor = placeholder_dataset.parse_url(url)\n",
    "    input_tensor = placeholder_dataset.pad_or_trim(input_tensor)\n",
    "    input_tensor = torch.tensor(input_tensor, dtype=torch.long)\n",
    "\n",
    "    input_tensor = input_tensor.to(device)\n",
    "    input_tensor = input_tensor.reshape(1, -1)\n",
    "    return input_tensor"
   ]
  },
  {
   "cell_type": "code",
   "execution_count": 129,
   "metadata": {},
   "outputs": [],
   "source": [
    "device = torch.device(\"mps\")\n",
    "model = model.to(device)"
   ]
  },
  {
   "cell_type": "code",
   "execution_count": 130,
   "metadata": {},
   "outputs": [],
   "source": [
    "grad_cam = GradCAM(model, target_layer=model.conv2)"
   ]
  },
  {
   "cell_type": "code",
   "execution_count": 131,
   "metadata": {},
   "outputs": [],
   "source": [
    "placeholder_csv_file_path: str = \"/Users/bkosinski/Desktop/STUDIA/SEMI/GSN/projekt/phish_dataset.csv\"\n",
    "placeholder_dataset = PhishingEmbeddingDataset(csv_file_path=placeholder_csv_file_path)"
   ]
  },
  {
   "cell_type": "code",
   "execution_count": 132,
   "metadata": {},
   "outputs": [],
   "source": [
    "target_url: str = \"apple-search.world\" # this is a phishing URL, see -> https://hole.cert.pl/domains/v2/domains.txt"
   ]
  },
  {
   "cell_type": "code",
   "execution_count": 134,
   "metadata": {},
   "outputs": [],
   "source": [
    "input_tensor = parse_url_to_input_tensor(target_url, placeholder_dataset, device)\n",
    "cam = grad_cam.generate_cam(input_tensor, target_class=0)"
   ]
  },
  {
   "cell_type": "code",
   "execution_count": 135,
   "metadata": {},
   "outputs": [],
   "source": [
    "visualized_url: str = visualize_url_with_cam(url=target_url, cam=cam)"
   ]
  },
  {
   "cell_type": "code",
   "execution_count": 136,
   "metadata": {},
   "outputs": [
    {
     "name": "stderr",
     "output_type": "stream",
     "text": [
      "/var/folders/l3/hg12zsjx6rsbsylxwh747cv00000gn/T/ipykernel_31109/1759908886.py:1: DeprecationWarning: Importing display from IPython.core.display is deprecated since IPython 7.14, please import from IPython display\n",
      "  from IPython.core.display import display, HTML\n"
     ]
    },
    {
     "data": {
      "text/html": [
       "<div style='color: black'><span style=\"background-color: #16ff16;\">a</span><span style=\"background-color: #00ff00;\">p</span><span style=\"background-color: #27ff27;\">p</span><span style=\"background-color: #18ff18;\">l</span><span style=\"background-color: #77ff77;\">e</span><span style=\"background-color: #9bff9b;\">-</span><span style=\"background-color: #a8ffa8;\">s</span><span style=\"background-color: #8dff8d;\">e</span><span style=\"background-color: #ffffff;\">a</span><span style=\"background-color: #ecffec;\">r</span><span style=\"background-color: #ecffec;\">c</span><span style=\"background-color: #ecffec;\">h</span><span style=\"background-color: #ecffec;\">.</span><span style=\"background-color: #ecffec;\">w</span><span style=\"background-color: #ecffec;\">o</span><span style=\"background-color: #ecffec;\">r</span><span style=\"background-color: #ecffec;\">l</span><span style=\"background-color: #ecffec;\">d</span></div>"
      ],
      "text/plain": [
       "<IPython.core.display.HTML object>"
      ]
     },
     "metadata": {},
     "output_type": "display_data"
    }
   ],
   "source": [
    "from IPython.core.display import display, HTML\n",
    "display(HTML(f\"<div style='color: black'>{visualized_url}</div>\"))"
   ]
  }
 ],
 "metadata": {
  "kernelspec": {
   "display_name": "Python 3",
   "language": "python",
   "name": "python3"
  },
  "language_info": {
   "codemirror_mode": {
    "name": "ipython",
    "version": 3
   },
   "file_extension": ".py",
   "mimetype": "text/x-python",
   "name": "python",
   "nbconvert_exporter": "python",
   "pygments_lexer": "ipython3",
   "version": "3.9.6"
  }
 },
 "nbformat": 4,
 "nbformat_minor": 2
}
