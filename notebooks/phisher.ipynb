{
  "nbformat": 4,
  "nbformat_minor": 0,
  "metadata": {
    "colab": {
      "provenance": [],
      "gpuType": "T4"
    },
    "kernelspec": {
      "name": "python3",
      "display_name": "Python 3"
    },
    "language_info": {
      "name": "python"
    },
    "accelerator": "GPU"
  },
  "cells": [
    {
      "cell_type": "markdown",
      "source": [
        "### Moduł `phisher`\n",
        "Pobranie i instalacja repozytorium."
      ],
      "metadata": {
        "id": "o8WGAmCX-4YW"
      }
    },
    {
      "cell_type": "code",
      "execution_count": null,
      "metadata": {
        "collapsed": true,
        "id": "8nz9rztxzUhu"
      },
      "outputs": [],
      "source": [
        "%cd /content/\n",
        "!git clone https://github.com/Bartolo72/phisher\n",
        "%cd /content/phisher\n",
        "!pip install -r requirements.txt -q\n",
        "!pip install -e . -q\n",
        "%cd /content/"
      ]
    },
    {
      "cell_type": "code",
      "source": [
        "import phisher"
      ],
      "metadata": {
        "id": "zukJbSIEzVZ0"
      },
      "execution_count": 2,
      "outputs": []
    },
    {
      "cell_type": "markdown",
      "source": [
        "### Trenowanie i ewaluacja modelu OneHot"
      ],
      "metadata": {
        "id": "DNPKgWQy_Mbz"
      }
    },
    {
      "cell_type": "code",
      "source": [
        "!python /content/phisher/main.py \\\n",
        "    model=phisher_one_hot \\\n",
        "    dataset=one_hot_dataset"
      ],
      "metadata": {
        "collapsed": true,
        "id": "E-Dg5Z9EzXD8"
      },
      "execution_count": null,
      "outputs": []
    },
    {
      "cell_type": "markdown",
      "source": [
        "#### Ewaluacja zapisanego checkpointu"
      ],
      "metadata": {
        "id": "Dcg4RsAI_fGi"
      }
    },
    {
      "cell_type": "code",
      "source": [
        "!python /content/phisher/main.py \\\n",
        "    model=phisher_one_hot \\\n",
        "    dataset=one_hot_dataset \\\n",
        "    model_ckpt=/content/one_hot_model.ckpt"
      ],
      "metadata": {
        "id": "XTB70Ag7_uEV"
      },
      "execution_count": null,
      "outputs": []
    },
    {
      "cell_type": "markdown",
      "source": [
        "### Trenowanie i ewaluacja modelu z embeddingami"
      ],
      "metadata": {
        "id": "TiFXRdq-_VUw"
      }
    },
    {
      "cell_type": "code",
      "source": [
        "!python /content/phisher/main.py \\\n",
        "    model=phisher_embeddings \\\n",
        "    dataset=embeddings_dataset"
      ],
      "metadata": {
        "id": "OZ3WWKhBB4H6"
      },
      "execution_count": null,
      "outputs": []
    },
    {
      "cell_type": "markdown",
      "source": [
        "#### Ewaluacja checkpointu"
      ],
      "metadata": {
        "id": "AnsedNDHG1Qc"
      }
    },
    {
      "cell_type": "code",
      "source": [
        "!python /content/phisher/main.py \\\n",
        "    model=phisher_embeddings \\\n",
        "    dataset=embeddings_dataset \\\n",
        "    model_ckpt=/content/embeddings_model.ckpt"
      ],
      "metadata": {
        "id": "6cxTkjtZ_YVN"
      },
      "execution_count": null,
      "outputs": []
    }
  ]
}