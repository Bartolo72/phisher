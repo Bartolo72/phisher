{
  "cells": [
    {
      "cell_type": "markdown",
      "metadata": {
        "id": "o8WGAmCX-4YW"
      },
      "source": [
        "### Moduł `phisher`\n",
        "Pobranie i instalacja repozytorium."
      ]
    },
    {
      "cell_type": "code",
      "execution_count": null,
      "metadata": {
        "collapsed": true,
        "id": "8nz9rztxzUhu"
      },
      "outputs": [],
      "source": [
        "%cd /content/\n",
        "!git clone https://github.com/Bartolo72/phisher\n",
        "%cd /content/phisher\n",
        "!pip install -r requirements.txt -q\n",
        "!pip install -e . -q\n",
        "%cd /content/"
      ]
    },
    {
      "cell_type": "code",
      "execution_count": 2,
      "metadata": {
        "id": "zukJbSIEzVZ0"
      },
      "outputs": [],
      "source": [
        "import phisher"
      ]
    },
    {
      "cell_type": "markdown",
      "metadata": {
        "id": "DNPKgWQy_Mbz"
      },
      "source": [
        "### Trenowanie i ewaluacja modelu OneHot"
      ]
    },
    {
      "cell_type": "code",
      "execution_count": null,
      "metadata": {
        "collapsed": true,
        "id": "E-Dg5Z9EzXD8"
      },
      "outputs": [],
      "source": [
        "!python /content/phisher/main.py \\\n",
        "    model=phisher_one_hot \\\n",
        "    dataset=one_hot_dataset"
      ]
    },
    {
      "cell_type": "markdown",
      "metadata": {
        "id": "Dcg4RsAI_fGi"
      },
      "source": [
        "#### Ewaluacja zapisanego checkpointu"
      ]
    },
    {
      "cell_type": "code",
      "execution_count": null,
      "metadata": {},
      "outputs": [],
      "source": [
        "import gdown\n",
        "\n",
        "gdown.download(\"https://drive.google.com/uc?id=1EfMhhMXY6onoVWgg7AbZUOy3fwgEsCXU\", output=\"one_hot_model.ckpt\", quiet=True)"
      ]
    },
    {
      "cell_type": "code",
      "execution_count": null,
      "metadata": {
        "id": "XTB70Ag7_uEV"
      },
      "outputs": [],
      "source": [
        "!python /content/phisher/main.py \\\n",
        "    model=phisher_one_hot \\\n",
        "    dataset=one_hot_dataset \\\n",
        "    model_ckpt=/content/one_hot_model.ckpt"
      ]
    },
    {
      "cell_type": "markdown",
      "metadata": {
        "id": "TiFXRdq-_VUw"
      },
      "source": [
        "### Trenowanie i ewaluacja modelu z embeddingami"
      ]
    },
    {
      "cell_type": "code",
      "execution_count": null,
      "metadata": {
        "id": "OZ3WWKhBB4H6"
      },
      "outputs": [],
      "source": [
        "!python /content/phisher/main.py \\\n",
        "    model=phisher_embeddings \\\n",
        "    dataset=embeddings_dataset"
      ]
    },
    {
      "cell_type": "markdown",
      "metadata": {
        "id": "AnsedNDHG1Qc"
      },
      "source": [
        "#### Ewaluacja checkpointu"
      ]
    },
    {
      "cell_type": "code",
      "execution_count": null,
      "metadata": {},
      "outputs": [],
      "source": [
        "import gdown \n",
        "\n",
        "gdown.download(\"https://drive.google.com/uc?id=1nKNRf0f2sJlp4q3ZphQXm8BoXj0z0U_R\", output=\"embeddings_model.ckpt\", quiet=True)"
      ]
    },
    {
      "cell_type": "code",
      "execution_count": null,
      "metadata": {
        "id": "6cxTkjtZ_YVN"
      },
      "outputs": [],
      "source": [
        "!python /content/phisher/main.py \\\n",
        "    model=phisher_embeddings \\\n",
        "    dataset=embeddings_dataset \\\n",
        "    model_ckpt=/content/embeddings_model.ckpt"
      ]
    }
  ],
  "metadata": {
    "accelerator": "GPU",
    "colab": {
      "gpuType": "T4",
      "provenance": []
    },
    "kernelspec": {
      "display_name": "Python 3",
      "name": "python3"
    },
    "language_info": {
      "name": "python"
    }
  },
  "nbformat": 4,
  "nbformat_minor": 0
}
